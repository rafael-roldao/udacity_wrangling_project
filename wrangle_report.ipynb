{
 "cells": [
  {
   "cell_type": "markdown",
   "metadata": {},
   "source": [
    "## Wrangle Report - Rafael Roldao L Dantas"
   ]
  },
  {
   "cell_type": "markdown",
   "metadata": {},
   "source": [
    "### Gathering data"
   ]
  },
  {
   "cell_type": "markdown",
   "metadata": {},
   "source": [
    "- The fist step of the project was collect the necessary data according to the respective source. \n",
    "    - The fist table `twitter_archive_enhanced.csv` was provided by Udacity team. This table includes *tweet_id, timestamp, text(tweet), ratings and dog stage*, among other informations. The *tweet_id* was crutial to (i) merge this table with other tables and (ii) gathering information in the tweepy (twitter API).\n",
    "    - The second table `image_predictions.tsv` was downloaded programatic using the requests funcion.\n",
    "    - The third table was downloaded using tweepy API, including *tweet_id, number of retweets, and number of likes*.\n",
    "\n",
    "- The second step was merge the 3 tables into 1 file to make possible analysis of any information."
   ]
  },
  {
   "cell_type": "markdown",
   "metadata": {},
   "source": [
    "### Asessing data"
   ]
  },
  {
   "cell_type": "markdown",
   "metadata": {},
   "source": [
    "- The third step was assess the information to identify potential issues and then, clean the data. the issues identified was the following:\n",
    "\n",
    "##### Tidiness issues\n",
    "- 1. Merge all databases/tables\n",
    "- 2. 'doggo', 'floofer', 'pupper', 'puppo' formats (merge all columns into 1 column 'dog_stage')\n",
    "\n",
    "##### Quality issues\n",
    "- 1. Retweets (retweeted_status_id is not Null)\n",
    "- 2. Replies ('in_reply_to_status_id', 'in_reply_to_user_id')\n",
    "- 3. 'timestamp' format (datetime)\n",
    "- 4. 'p1_dog', 'p2_dog', 'p3_dog' formats (binary categories)\n",
    "- 5. 'retweet_count', 'favorite_count' (int)\n",
    "- 6. Unnecessary columns\n",
    "- 7. Rows with different rating denominator basis (for comparison purpose - It is hard to compare variables in different basis)\n",
    "- 8. Meaningful Null values (jpg_url, img_num, p1, p1_conf, p1_dog, p2, p2_conf, p2_dog, p3, p3_conf, p3_dog)\n",
    "- 9. Some Null values (expanded_urls, retweet_count, favorite_count)\n",
    "- 10. Some names are not existing names\n",
    "- 11. 'rating_numerator' inconsistent with 'text'"
   ]
  },
  {
   "cell_type": "markdown",
   "metadata": {},
   "source": [
    "### Cleaning data"
   ]
  },
  {
   "cell_type": "markdown",
   "metadata": {},
   "source": [
    "- The fourth step was perform **define, code and test** for each issue identified in the assessing process. The following functions were used:\n",
    "    - **.isnull()** to drop Null values\n",
    "    - **pd.to_datetime** to change the data format\n",
    "    - **.astype('category')** to change data type\n",
    "    - **.drop** to drop unecessary columns\n",
    "    - **.replace()** to change None to \"\" to Null\n",
    "    - **.copy()** to copy databases\n",
    "    - **sqlalchemy** library to save the table as database\n",
    "    - **.groupby** to create visualization reports\n",
    "    - **.plot** to create charts"
   ]
  },
  {
   "cell_type": "markdown",
   "metadata": {},
   "source": [
    "### Storing, Analyzing, and Visualizing Data"
   ]
  },
  {
   "cell_type": "markdown",
   "metadata": {},
   "source": [
    "- The last step was save the clean data in `.csv` and `.db` formats and make analysis with the data. More details about the analysis in the `act_report` file."
   ]
  }
 ],
 "metadata": {
  "kernelspec": {
   "display_name": "Python 3.7.6 64-bit ('ROLD003': virtualenv)",
   "language": "python",
   "name": "python37664bitrold003virtualenv82ffed11f6f444ac89fd2ba5fdfbe0b0"
  },
  "language_info": {
   "codemirror_mode": {
    "name": "ipython",
    "version": 3
   },
   "file_extension": ".py",
   "mimetype": "text/x-python",
   "name": "python",
   "nbconvert_exporter": "python",
   "pygments_lexer": "ipython3",
   "version": "3.7.6"
  }
 },
 "nbformat": 4,
 "nbformat_minor": 4
}
